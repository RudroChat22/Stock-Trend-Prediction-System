{
 "cells": [
  {
   "cell_type": "code",
   "execution_count": null,
   "id": "c9800a64",
   "metadata": {},
   "outputs": [],
   "source": [
    "\n",
    "import numpy as np\n",
    "import pandas as pd\n",
    "import matplotlib.pyplot as plt\n",
    "import pandas_datareader as data\n",
    "import yfinance as yf\n",
    "start = '2010-01-01'\n",
    "end = '2019-12-31'\n",
    "df = yf.download('AAPL', start, end)\n",
    "df.head()\n"
   ]
  },
  {
   "cell_type": "code",
   "execution_count": null,
   "id": "d78da8d9",
   "metadata": {},
   "outputs": [],
   "source": [
    "\n",
    "df = df.reset_index()\n",
    "df.head()\n"
   ]
  },
  {
   "cell_type": "code",
   "execution_count": null,
   "id": "34e759b7",
   "metadata": {},
   "outputs": [],
   "source": [
    "\n",
    "df = df.drop(['Date'], axis=1)\n",
    "df.head()\n"
   ]
  },
  {
   "cell_type": "code",
   "execution_count": null,
   "id": "71dada0a",
   "metadata": {},
   "outputs": [],
   "source": [
    "\n",
    "plt.plot(df.Close)\n",
    "ma100 = df.Close.rolling(100).mean()  # Moving Average (100 days)\n",
    "ma200 = df.Close.rolling(200).mean()\n",
    "plt.figure(figsize=(12, 6))\n",
    "plt.plot(df.Close)\n",
    "plt.plot(ma100, 'r')\n",
    "plt.plot(ma200, 'g')\n"
   ]
  },
  {
   "cell_type": "code",
   "execution_count": null,
   "id": "02e9bc34",
   "metadata": {},
   "outputs": [],
   "source": [
    "\n",
    "data_training = pd.DataFrame(df['Close'][0:int(len(df) * 0.7)])\n",
    "data_testing = pd.DataFrame(df['Close'][int(len(df) * 0.7):int(len(df))])\n"
   ]
  },
  {
   "cell_type": "code",
   "execution_count": null,
   "id": "275e8f39",
   "metadata": {},
   "outputs": [],
   "source": [
    "\n",
    "from sklearn.preprocessing import MinMaxScaler\n",
    "scaler = MinMaxScaler(feature_range=(0, 1))\n",
    "data_training_array = scaler.fit_transform(data_training)\n",
    "data_testing_array = scaler.fit_transform(data_testing)\n"
   ]
  },
  {
   "cell_type": "code",
   "execution_count": null,
   "id": "3377cd40",
   "metadata": {},
   "outputs": [],
   "source": [
    "\n",
    "x_train = []  # Training data\n",
    "y_train = []  # Predicted data\n",
    "for i in range(100, data_training_array.shape[0]):\n",
    "    x_train.append(data_training_array[i-100:i])\n",
    "    y_train.append(data_training_array[i, 0])\n",
    "x_train, y_train = np.array(x_train), np.array(y_train)\n"
   ]
  },
  {
   "cell_type": "code",
   "execution_count": null,
   "id": "1857f3f1",
   "metadata": {},
   "outputs": [],
   "source": [
    "\n",
    "from keras.layers import Dense, Dropout, LSTM\n",
    "from keras.models import Sequential\n",
    "model = Sequential()\n",
    "model.add(LSTM(units=50, activation='relu', return_sequences=True, input_shape=(x_train.shape[1], 1)))\n",
    "model.add(Dropout(0.2))\n",
    "model.add(LSTM(units=60, activation='relu', return_sequences=True))\n",
    "model.add(Dropout(0.3))\n",
    "model.add(LSTM(units=80, activation='relu', return_sequences=True))\n",
    "model.add(Dropout(0.4))\n",
    "model.add(LSTM(units=120, activation='relu'))\n",
    "model.add(Dropout(0.5))\n",
    "model.add(Dense(units=1))\n",
    "model.summary()\n"
   ]
  },
  {
   "cell_type": "code",
   "execution_count": null,
   "id": "78ad67fb",
   "metadata": {},
   "outputs": [],
   "source": [
    "\n",
    "model.compile(optimizer='adam', loss='mean_squared_error')\n",
    "model.fit(x_train, y_train, epochs=50)\n",
    "model.save('keras_model.h5')\n"
   ]
  },
  {
   "cell_type": "code",
   "execution_count": null,
   "id": "c9616908",
   "metadata": {},
   "outputs": [],
   "source": [
    "\n",
    "past_100_days = data_training.tail(100)\n",
    "final_df = pd.concat([past_100_days, data_testing], ignore_index=True)\n",
    "final_df.head()\n"
   ]
  },
  {
   "cell_type": "code",
   "execution_count": null,
   "id": "3a43320e",
   "metadata": {},
   "outputs": [],
   "source": [
    "\n",
    "input_data = scaler.fit_transform(final_df)\n",
    "input_data.shape\n"
   ]
  },
  {
   "cell_type": "code",
   "execution_count": null,
   "id": "af17373d",
   "metadata": {},
   "outputs": [],
   "source": [
    "\n",
    "x_test = []\n",
    "y_test = []\n",
    "for i in range(100, input_data.shape[0]):\n",
    "    x_test.append(input_data[i-100:i])\n",
    "    y_test.append(input_data[i, 0])\n",
    "x_test, y_test = np.array(x_test), np.array(y_test)\n"
   ]
  },
  {
   "cell_type": "code",
   "execution_count": null,
   "id": "f74faf99",
   "metadata": {},
   "outputs": [],
   "source": [
    "\n",
    "y_predicted = model.predict(x_test)\n",
    "y_predicted.shape\n"
   ]
  },
  {
   "cell_type": "code",
   "execution_count": null,
   "id": "1d4d1376",
   "metadata": {},
   "outputs": [],
   "source": [
    "\n",
    "scaler.scale_\n",
    "scale_factor = 1 / 0.02132178\n",
    "y_predicted = y_predicted * scale_factor\n",
    "y_test = y_test * scale_factor\n",
    "plt.figure(figsize=(12, 6))\n",
    "plt.plot(y_test, 'b', label='Original Price')\n",
    "plt.plot(y_predicted, 'r', label='Predicted Price')\n",
    "plt.xlabel('Time')\n",
    "plt.ylabel('Price')\n",
    "plt.legend()\n",
    "plt.show()\n"
   ]
  }
 ],
 "metadata": {},
 "nbformat": 4,
 "nbformat_minor": 5
}